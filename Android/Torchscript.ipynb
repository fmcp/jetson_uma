{
  "cells": [
    {
      "cell_type": "markdown",
      "metadata": {
        "id": "7Ow23zCFEH4v"
      },
      "source": [
        "# Ejemplo para convertir un modelo a Torchscript\n",
        "---\n",
        "\n",
        "## 1. Instalar e importar las librerías necesarias\n",
        "\n",
        "En este ejemplo vamos a trabajar con Pytorch y los modelos de torchvision"
      ]
    },
    {
      "cell_type": "code",
      "execution_count": 1,
      "metadata": {
        "colab": {
          "base_uri": "https://localhost:8080/"
        },
        "id": "lnsq0y32D6KW",
        "outputId": "515a295f-cf6e-415c-cd0e-6468b3870ae3"
      },
      "outputs": [
        {
          "output_type": "stream",
          "name": "stdout",
          "text": [
            "Requirement already satisfied: torch in /usr/local/lib/python3.10/dist-packages (2.1.0+cu121)\n",
            "Requirement already satisfied: torchvision in /usr/local/lib/python3.10/dist-packages (0.16.0+cu121)\n",
            "Collecting torchinfo\n",
            "  Downloading torchinfo-1.8.0-py3-none-any.whl (23 kB)\n",
            "Requirement already satisfied: numpy in /usr/local/lib/python3.10/dist-packages (1.23.5)\n",
            "Requirement already satisfied: filelock in /usr/local/lib/python3.10/dist-packages (from torch) (3.13.1)\n",
            "Requirement already satisfied: typing-extensions in /usr/local/lib/python3.10/dist-packages (from torch) (4.5.0)\n",
            "Requirement already satisfied: sympy in /usr/local/lib/python3.10/dist-packages (from torch) (1.12)\n",
            "Requirement already satisfied: networkx in /usr/local/lib/python3.10/dist-packages (from torch) (3.2.1)\n",
            "Requirement already satisfied: jinja2 in /usr/local/lib/python3.10/dist-packages (from torch) (3.1.3)\n",
            "Requirement already satisfied: fsspec in /usr/local/lib/python3.10/dist-packages (from torch) (2023.6.0)\n",
            "Requirement already satisfied: triton==2.1.0 in /usr/local/lib/python3.10/dist-packages (from torch) (2.1.0)\n",
            "Requirement already satisfied: requests in /usr/local/lib/python3.10/dist-packages (from torchvision) (2.31.0)\n",
            "Requirement already satisfied: pillow!=8.3.*,>=5.3.0 in /usr/local/lib/python3.10/dist-packages (from torchvision) (9.4.0)\n",
            "Requirement already satisfied: MarkupSafe>=2.0 in /usr/local/lib/python3.10/dist-packages (from jinja2->torch) (2.1.3)\n",
            "Requirement already satisfied: charset-normalizer<4,>=2 in /usr/local/lib/python3.10/dist-packages (from requests->torchvision) (3.3.2)\n",
            "Requirement already satisfied: idna<4,>=2.5 in /usr/local/lib/python3.10/dist-packages (from requests->torchvision) (3.6)\n",
            "Requirement already satisfied: urllib3<3,>=1.21.1 in /usr/local/lib/python3.10/dist-packages (from requests->torchvision) (2.0.7)\n",
            "Requirement already satisfied: certifi>=2017.4.17 in /usr/local/lib/python3.10/dist-packages (from requests->torchvision) (2023.11.17)\n",
            "Requirement already satisfied: mpmath>=0.19 in /usr/local/lib/python3.10/dist-packages (from sympy->torch) (1.3.0)\n",
            "Installing collected packages: torchinfo\n",
            "Successfully installed torchinfo-1.8.0\n"
          ]
        }
      ],
      "source": [
        "!pip3 install torch torchvision torchinfo numpy"
      ]
    },
    {
      "cell_type": "code",
      "execution_count": 2,
      "metadata": {
        "id": "QcTQd3QwEM5j"
      },
      "outputs": [],
      "source": [
        "from torchvision.models import resnet18, ResNet18_Weights, resnet50, ResNet50_Weights\n",
        "from torchinfo import summary\n",
        "import torch\n",
        "import torchvision\n",
        "import time\n",
        "import numpy as np"
      ]
    },
    {
      "cell_type": "markdown",
      "metadata": {
        "id": "jk6e0K0QGkOa"
      },
      "source": [
        "## 2. Definir el modelo\n",
        "\n",
        "Definimos el modelo, en este caso, usamos ResNet50 pre-entrenada en ImageNet."
      ]
    },
    {
      "cell_type": "code",
      "execution_count": 4,
      "metadata": {
        "colab": {
          "base_uri": "https://localhost:8080/"
        },
        "id": "3kPW7a7CGAIm",
        "outputId": "1f719e7a-6911-4375-d2d3-9ed6ed0bb171"
      },
      "outputs": [
        {
          "output_type": "stream",
          "name": "stderr",
          "text": [
            "/usr/local/lib/python3.10/dist-packages/torchvision/models/_utils.py:223: UserWarning: Arguments other than a weight enum or `None` for 'weights' are deprecated since 0.13 and may be removed in the future. The current behavior is equivalent to passing `weights=ResNet50_Weights.IMAGENET1K_V1`. You can also use `weights=ResNet50_Weights.DEFAULT` to get the most up-to-date weights.\n",
            "  warnings.warn(msg)\n",
            "Downloading: \"https://download.pytorch.org/models/resnet50-0676ba61.pth\" to /root/.cache/torch/hub/checkpoints/resnet50-0676ba61.pth\n",
            "100%|██████████| 97.8M/97.8M [00:01<00:00, 78.1MB/s]\n"
          ]
        },
        {
          "output_type": "execute_result",
          "data": {
            "text/plain": [
              "==========================================================================================\n",
              "Layer (type:depth-idx)                   Output Shape              Param #\n",
              "==========================================================================================\n",
              "ResNet                                   [1, 1000]                 --\n",
              "├─Conv2d: 1-1                            [1, 64, 112, 112]         9,408\n",
              "├─BatchNorm2d: 1-2                       [1, 64, 112, 112]         128\n",
              "├─ReLU: 1-3                              [1, 64, 112, 112]         --\n",
              "├─MaxPool2d: 1-4                         [1, 64, 56, 56]           --\n",
              "├─Sequential: 1-5                        [1, 256, 56, 56]          --\n",
              "│    └─Bottleneck: 2-1                   [1, 256, 56, 56]          --\n",
              "│    │    └─Conv2d: 3-1                  [1, 64, 56, 56]           4,096\n",
              "│    │    └─BatchNorm2d: 3-2             [1, 64, 56, 56]           128\n",
              "│    │    └─ReLU: 3-3                    [1, 64, 56, 56]           --\n",
              "│    │    └─Conv2d: 3-4                  [1, 64, 56, 56]           36,864\n",
              "│    │    └─BatchNorm2d: 3-5             [1, 64, 56, 56]           128\n",
              "│    │    └─ReLU: 3-6                    [1, 64, 56, 56]           --\n",
              "│    │    └─Conv2d: 3-7                  [1, 256, 56, 56]          16,384\n",
              "│    │    └─BatchNorm2d: 3-8             [1, 256, 56, 56]          512\n",
              "│    │    └─Sequential: 3-9              [1, 256, 56, 56]          16,896\n",
              "│    │    └─ReLU: 3-10                   [1, 256, 56, 56]          --\n",
              "│    └─Bottleneck: 2-2                   [1, 256, 56, 56]          --\n",
              "│    │    └─Conv2d: 3-11                 [1, 64, 56, 56]           16,384\n",
              "│    │    └─BatchNorm2d: 3-12            [1, 64, 56, 56]           128\n",
              "│    │    └─ReLU: 3-13                   [1, 64, 56, 56]           --\n",
              "│    │    └─Conv2d: 3-14                 [1, 64, 56, 56]           36,864\n",
              "│    │    └─BatchNorm2d: 3-15            [1, 64, 56, 56]           128\n",
              "│    │    └─ReLU: 3-16                   [1, 64, 56, 56]           --\n",
              "│    │    └─Conv2d: 3-17                 [1, 256, 56, 56]          16,384\n",
              "│    │    └─BatchNorm2d: 3-18            [1, 256, 56, 56]          512\n",
              "│    │    └─ReLU: 3-19                   [1, 256, 56, 56]          --\n",
              "│    └─Bottleneck: 2-3                   [1, 256, 56, 56]          --\n",
              "│    │    └─Conv2d: 3-20                 [1, 64, 56, 56]           16,384\n",
              "│    │    └─BatchNorm2d: 3-21            [1, 64, 56, 56]           128\n",
              "│    │    └─ReLU: 3-22                   [1, 64, 56, 56]           --\n",
              "│    │    └─Conv2d: 3-23                 [1, 64, 56, 56]           36,864\n",
              "│    │    └─BatchNorm2d: 3-24            [1, 64, 56, 56]           128\n",
              "│    │    └─ReLU: 3-25                   [1, 64, 56, 56]           --\n",
              "│    │    └─Conv2d: 3-26                 [1, 256, 56, 56]          16,384\n",
              "│    │    └─BatchNorm2d: 3-27            [1, 256, 56, 56]          512\n",
              "│    │    └─ReLU: 3-28                   [1, 256, 56, 56]          --\n",
              "├─Sequential: 1-6                        [1, 512, 28, 28]          --\n",
              "│    └─Bottleneck: 2-4                   [1, 512, 28, 28]          --\n",
              "│    │    └─Conv2d: 3-29                 [1, 128, 56, 56]          32,768\n",
              "│    │    └─BatchNorm2d: 3-30            [1, 128, 56, 56]          256\n",
              "│    │    └─ReLU: 3-31                   [1, 128, 56, 56]          --\n",
              "│    │    └─Conv2d: 3-32                 [1, 128, 28, 28]          147,456\n",
              "│    │    └─BatchNorm2d: 3-33            [1, 128, 28, 28]          256\n",
              "│    │    └─ReLU: 3-34                   [1, 128, 28, 28]          --\n",
              "│    │    └─Conv2d: 3-35                 [1, 512, 28, 28]          65,536\n",
              "│    │    └─BatchNorm2d: 3-36            [1, 512, 28, 28]          1,024\n",
              "│    │    └─Sequential: 3-37             [1, 512, 28, 28]          132,096\n",
              "│    │    └─ReLU: 3-38                   [1, 512, 28, 28]          --\n",
              "│    └─Bottleneck: 2-5                   [1, 512, 28, 28]          --\n",
              "│    │    └─Conv2d: 3-39                 [1, 128, 28, 28]          65,536\n",
              "│    │    └─BatchNorm2d: 3-40            [1, 128, 28, 28]          256\n",
              "│    │    └─ReLU: 3-41                   [1, 128, 28, 28]          --\n",
              "│    │    └─Conv2d: 3-42                 [1, 128, 28, 28]          147,456\n",
              "│    │    └─BatchNorm2d: 3-43            [1, 128, 28, 28]          256\n",
              "│    │    └─ReLU: 3-44                   [1, 128, 28, 28]          --\n",
              "│    │    └─Conv2d: 3-45                 [1, 512, 28, 28]          65,536\n",
              "│    │    └─BatchNorm2d: 3-46            [1, 512, 28, 28]          1,024\n",
              "│    │    └─ReLU: 3-47                   [1, 512, 28, 28]          --\n",
              "│    └─Bottleneck: 2-6                   [1, 512, 28, 28]          --\n",
              "│    │    └─Conv2d: 3-48                 [1, 128, 28, 28]          65,536\n",
              "│    │    └─BatchNorm2d: 3-49            [1, 128, 28, 28]          256\n",
              "│    │    └─ReLU: 3-50                   [1, 128, 28, 28]          --\n",
              "│    │    └─Conv2d: 3-51                 [1, 128, 28, 28]          147,456\n",
              "│    │    └─BatchNorm2d: 3-52            [1, 128, 28, 28]          256\n",
              "│    │    └─ReLU: 3-53                   [1, 128, 28, 28]          --\n",
              "│    │    └─Conv2d: 3-54                 [1, 512, 28, 28]          65,536\n",
              "│    │    └─BatchNorm2d: 3-55            [1, 512, 28, 28]          1,024\n",
              "│    │    └─ReLU: 3-56                   [1, 512, 28, 28]          --\n",
              "│    └─Bottleneck: 2-7                   [1, 512, 28, 28]          --\n",
              "│    │    └─Conv2d: 3-57                 [1, 128, 28, 28]          65,536\n",
              "│    │    └─BatchNorm2d: 3-58            [1, 128, 28, 28]          256\n",
              "│    │    └─ReLU: 3-59                   [1, 128, 28, 28]          --\n",
              "│    │    └─Conv2d: 3-60                 [1, 128, 28, 28]          147,456\n",
              "│    │    └─BatchNorm2d: 3-61            [1, 128, 28, 28]          256\n",
              "│    │    └─ReLU: 3-62                   [1, 128, 28, 28]          --\n",
              "│    │    └─Conv2d: 3-63                 [1, 512, 28, 28]          65,536\n",
              "│    │    └─BatchNorm2d: 3-64            [1, 512, 28, 28]          1,024\n",
              "│    │    └─ReLU: 3-65                   [1, 512, 28, 28]          --\n",
              "├─Sequential: 1-7                        [1, 1024, 14, 14]         --\n",
              "│    └─Bottleneck: 2-8                   [1, 1024, 14, 14]         --\n",
              "│    │    └─Conv2d: 3-66                 [1, 256, 28, 28]          131,072\n",
              "│    │    └─BatchNorm2d: 3-67            [1, 256, 28, 28]          512\n",
              "│    │    └─ReLU: 3-68                   [1, 256, 28, 28]          --\n",
              "│    │    └─Conv2d: 3-69                 [1, 256, 14, 14]          589,824\n",
              "│    │    └─BatchNorm2d: 3-70            [1, 256, 14, 14]          512\n",
              "│    │    └─ReLU: 3-71                   [1, 256, 14, 14]          --\n",
              "│    │    └─Conv2d: 3-72                 [1, 1024, 14, 14]         262,144\n",
              "│    │    └─BatchNorm2d: 3-73            [1, 1024, 14, 14]         2,048\n",
              "│    │    └─Sequential: 3-74             [1, 1024, 14, 14]         526,336\n",
              "│    │    └─ReLU: 3-75                   [1, 1024, 14, 14]         --\n",
              "│    └─Bottleneck: 2-9                   [1, 1024, 14, 14]         --\n",
              "│    │    └─Conv2d: 3-76                 [1, 256, 14, 14]          262,144\n",
              "│    │    └─BatchNorm2d: 3-77            [1, 256, 14, 14]          512\n",
              "│    │    └─ReLU: 3-78                   [1, 256, 14, 14]          --\n",
              "│    │    └─Conv2d: 3-79                 [1, 256, 14, 14]          589,824\n",
              "│    │    └─BatchNorm2d: 3-80            [1, 256, 14, 14]          512\n",
              "│    │    └─ReLU: 3-81                   [1, 256, 14, 14]          --\n",
              "│    │    └─Conv2d: 3-82                 [1, 1024, 14, 14]         262,144\n",
              "│    │    └─BatchNorm2d: 3-83            [1, 1024, 14, 14]         2,048\n",
              "│    │    └─ReLU: 3-84                   [1, 1024, 14, 14]         --\n",
              "│    └─Bottleneck: 2-10                  [1, 1024, 14, 14]         --\n",
              "│    │    └─Conv2d: 3-85                 [1, 256, 14, 14]          262,144\n",
              "│    │    └─BatchNorm2d: 3-86            [1, 256, 14, 14]          512\n",
              "│    │    └─ReLU: 3-87                   [1, 256, 14, 14]          --\n",
              "│    │    └─Conv2d: 3-88                 [1, 256, 14, 14]          589,824\n",
              "│    │    └─BatchNorm2d: 3-89            [1, 256, 14, 14]          512\n",
              "│    │    └─ReLU: 3-90                   [1, 256, 14, 14]          --\n",
              "│    │    └─Conv2d: 3-91                 [1, 1024, 14, 14]         262,144\n",
              "│    │    └─BatchNorm2d: 3-92            [1, 1024, 14, 14]         2,048\n",
              "│    │    └─ReLU: 3-93                   [1, 1024, 14, 14]         --\n",
              "│    └─Bottleneck: 2-11                  [1, 1024, 14, 14]         --\n",
              "│    │    └─Conv2d: 3-94                 [1, 256, 14, 14]          262,144\n",
              "│    │    └─BatchNorm2d: 3-95            [1, 256, 14, 14]          512\n",
              "│    │    └─ReLU: 3-96                   [1, 256, 14, 14]          --\n",
              "│    │    └─Conv2d: 3-97                 [1, 256, 14, 14]          589,824\n",
              "│    │    └─BatchNorm2d: 3-98            [1, 256, 14, 14]          512\n",
              "│    │    └─ReLU: 3-99                   [1, 256, 14, 14]          --\n",
              "│    │    └─Conv2d: 3-100                [1, 1024, 14, 14]         262,144\n",
              "│    │    └─BatchNorm2d: 3-101           [1, 1024, 14, 14]         2,048\n",
              "│    │    └─ReLU: 3-102                  [1, 1024, 14, 14]         --\n",
              "│    └─Bottleneck: 2-12                  [1, 1024, 14, 14]         --\n",
              "│    │    └─Conv2d: 3-103                [1, 256, 14, 14]          262,144\n",
              "│    │    └─BatchNorm2d: 3-104           [1, 256, 14, 14]          512\n",
              "│    │    └─ReLU: 3-105                  [1, 256, 14, 14]          --\n",
              "│    │    └─Conv2d: 3-106                [1, 256, 14, 14]          589,824\n",
              "│    │    └─BatchNorm2d: 3-107           [1, 256, 14, 14]          512\n",
              "│    │    └─ReLU: 3-108                  [1, 256, 14, 14]          --\n",
              "│    │    └─Conv2d: 3-109                [1, 1024, 14, 14]         262,144\n",
              "│    │    └─BatchNorm2d: 3-110           [1, 1024, 14, 14]         2,048\n",
              "│    │    └─ReLU: 3-111                  [1, 1024, 14, 14]         --\n",
              "│    └─Bottleneck: 2-13                  [1, 1024, 14, 14]         --\n",
              "│    │    └─Conv2d: 3-112                [1, 256, 14, 14]          262,144\n",
              "│    │    └─BatchNorm2d: 3-113           [1, 256, 14, 14]          512\n",
              "│    │    └─ReLU: 3-114                  [1, 256, 14, 14]          --\n",
              "│    │    └─Conv2d: 3-115                [1, 256, 14, 14]          589,824\n",
              "│    │    └─BatchNorm2d: 3-116           [1, 256, 14, 14]          512\n",
              "│    │    └─ReLU: 3-117                  [1, 256, 14, 14]          --\n",
              "│    │    └─Conv2d: 3-118                [1, 1024, 14, 14]         262,144\n",
              "│    │    └─BatchNorm2d: 3-119           [1, 1024, 14, 14]         2,048\n",
              "│    │    └─ReLU: 3-120                  [1, 1024, 14, 14]         --\n",
              "├─Sequential: 1-8                        [1, 2048, 7, 7]           --\n",
              "│    └─Bottleneck: 2-14                  [1, 2048, 7, 7]           --\n",
              "│    │    └─Conv2d: 3-121                [1, 512, 14, 14]          524,288\n",
              "│    │    └─BatchNorm2d: 3-122           [1, 512, 14, 14]          1,024\n",
              "│    │    └─ReLU: 3-123                  [1, 512, 14, 14]          --\n",
              "│    │    └─Conv2d: 3-124                [1, 512, 7, 7]            2,359,296\n",
              "│    │    └─BatchNorm2d: 3-125           [1, 512, 7, 7]            1,024\n",
              "│    │    └─ReLU: 3-126                  [1, 512, 7, 7]            --\n",
              "│    │    └─Conv2d: 3-127                [1, 2048, 7, 7]           1,048,576\n",
              "│    │    └─BatchNorm2d: 3-128           [1, 2048, 7, 7]           4,096\n",
              "│    │    └─Sequential: 3-129            [1, 2048, 7, 7]           2,101,248\n",
              "│    │    └─ReLU: 3-130                  [1, 2048, 7, 7]           --\n",
              "│    └─Bottleneck: 2-15                  [1, 2048, 7, 7]           --\n",
              "│    │    └─Conv2d: 3-131                [1, 512, 7, 7]            1,048,576\n",
              "│    │    └─BatchNorm2d: 3-132           [1, 512, 7, 7]            1,024\n",
              "│    │    └─ReLU: 3-133                  [1, 512, 7, 7]            --\n",
              "│    │    └─Conv2d: 3-134                [1, 512, 7, 7]            2,359,296\n",
              "│    │    └─BatchNorm2d: 3-135           [1, 512, 7, 7]            1,024\n",
              "│    │    └─ReLU: 3-136                  [1, 512, 7, 7]            --\n",
              "│    │    └─Conv2d: 3-137                [1, 2048, 7, 7]           1,048,576\n",
              "│    │    └─BatchNorm2d: 3-138           [1, 2048, 7, 7]           4,096\n",
              "│    │    └─ReLU: 3-139                  [1, 2048, 7, 7]           --\n",
              "│    └─Bottleneck: 2-16                  [1, 2048, 7, 7]           --\n",
              "│    │    └─Conv2d: 3-140                [1, 512, 7, 7]            1,048,576\n",
              "│    │    └─BatchNorm2d: 3-141           [1, 512, 7, 7]            1,024\n",
              "│    │    └─ReLU: 3-142                  [1, 512, 7, 7]            --\n",
              "│    │    └─Conv2d: 3-143                [1, 512, 7, 7]            2,359,296\n",
              "│    │    └─BatchNorm2d: 3-144           [1, 512, 7, 7]            1,024\n",
              "│    │    └─ReLU: 3-145                  [1, 512, 7, 7]            --\n",
              "│    │    └─Conv2d: 3-146                [1, 2048, 7, 7]           1,048,576\n",
              "│    │    └─BatchNorm2d: 3-147           [1, 2048, 7, 7]           4,096\n",
              "│    │    └─ReLU: 3-148                  [1, 2048, 7, 7]           --\n",
              "├─AdaptiveAvgPool2d: 1-9                 [1, 2048, 1, 1]           --\n",
              "├─Linear: 1-10                           [1, 1000]                 2,049,000\n",
              "==========================================================================================\n",
              "Total params: 25,557,032\n",
              "Trainable params: 25,557,032\n",
              "Non-trainable params: 0\n",
              "Total mult-adds (G): 4.09\n",
              "==========================================================================================\n",
              "Input size (MB): 0.60\n",
              "Forward/backward pass size (MB): 177.83\n",
              "Params size (MB): 102.23\n",
              "Estimated Total Size (MB): 280.66\n",
              "=========================================================================================="
            ]
          },
          "metadata": {},
          "execution_count": 4
        }
      ],
      "source": [
        "model = torchvision.models.resnet50(weights=torchvision.models.ResNet50_Weights)\n",
        "preprocessing = ResNet50_Weights.IMAGENET1K_V1.transforms()\n",
        "summary(model, input_size=(1, 3, 224, 224))"
      ]
    },
    {
      "cell_type": "markdown",
      "metadata": {
        "id": "FxGT16QHQ6a0"
      },
      "source": [
        "## 6. Exportar el modelo en INT8\n",
        "\n",
        "Una vez que hemos realizado el entrenamiento para pasar a INT8, simplemente limpiamos las capas auxiliares que añade Pytorch para realizar la calibración y exportamos el modelo a TorchScript para poder usarlo en un móvil."
      ]
    },
    {
      "cell_type": "code",
      "execution_count": 5,
      "metadata": {
        "id": "JTIDTKCLidSO"
      },
      "outputs": [],
      "source": [
        "model.eval().cpu()\n",
        "model = torch.quantization.convert(model, inplace=True).cpu()\n",
        "model_script = torch.jit.script(model) # Export to TorchScript\n",
        "torch.jit.save(model_script, './model.pt')"
      ]
    }
  ],
  "metadata": {
    "colab": {
      "provenance": [],
      "gpuType": "T4"
    },
    "kernelspec": {
      "display_name": "Python 3",
      "name": "python3"
    },
    "language_info": {
      "name": "python"
    },
    "accelerator": "GPU"
  },
  "nbformat": 4,
  "nbformat_minor": 0
}